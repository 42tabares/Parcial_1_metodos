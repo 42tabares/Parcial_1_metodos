{
 "cells": [
  {
   "cell_type": "markdown",
   "id": "9824bfe8",
   "metadata": {},
   "source": [
    "## 1) INSPIRE API\n",
    "\n",
    "### a) "
   ]
  },
  {
   "cell_type": "code",
   "execution_count": 43,
   "id": "6acbd8fd",
   "metadata": {},
   "outputs": [
    {
     "name": "stdout",
     "output_type": "stream",
     "text": [
      "CNR, Italy\n",
      "INFN, Italy\n",
      "INFM, Italy (main)\n",
      "Unlisted, IT\n",
      "PRATO, Italy\n",
      "Digital Italia, Rome\n",
      "Hudson Italiana, Milan\n",
      "GCTP Renaio, Lucca\n",
      "ASI-CGS, Matera\n",
      "ASI-CGS, Matera\n"
     ]
    }
   ],
   "source": [
    "import requests\n",
    "import json\n",
    "\n",
    "#GET universities via REST API request to Inspire\n",
    "response = requests.get(\"https://inspirehep.net/api/institutions?q=italy\")\n",
    "list_of_institutions = response.json().get(\"hits\").get(\"hits\")\n",
    "\n",
    "#Get legacy_ICN of the first university with at least 1 paper published\n",
    "for institution in list_of_institutions:\n",
    "    if institution.get(\"metadata\").get(\"number_of_papers\") > 0:\n",
    "        legacy_ICN = institution.get(\"metadata\").get(\"legacy_ICN\")\n",
    "        break\n",
    "    print(\"All universities in this country have 0 papers! please query another country\")"
   ]
  },
  {
   "cell_type": "markdown",
   "id": "006b51b3",
   "metadata": {},
   "source": [
    "### b) // c)\n",
    "\n",
    "Profe, intenté conectar el numeral anterior con este punto pero la API requiere el input del parametro aff de una forma demasiado especifica, por ahora trabajaré con el ejemplo de la UNALque usted usó"
   ]
  },
  {
   "cell_type": "code",
   "execution_count": 75,
   "id": "fbfb4c60",
   "metadata": {},
   "outputs": [
    {
     "name": "stdout",
     "output_type": "stream",
     "text": [
      "['https://inspirehep.net/api/authors/1964576', 'https://inspirehep.net/api/authors/1964574', 'https://inspirehep.net/api/authors/1985776', 'https://inspirehep.net/api/authors/2072990', 'https://inspirehep.net/api/authors/2072991', 'https://inspirehep.net/api/authors/2072992', 'https://inspirehep.net/api/authors/2072993', 'https://inspirehep.net/api/authors/2072994']\n"
     ]
    }
   ],
   "source": [
    "from random import randint\n",
    "\n",
    "response = requests.get(\"https://inspirehep.net/api/literature?sort=mostrecent&page=1&q=aff+Colombia,+U.+Natl.+and+ac+1-%3E+10\")\n",
    "list_of_papers = response.json().get(\"hits\").get(\"hits\")\n",
    "\n",
    "#these values were selected randomly by a human! (me)\n",
    "n1=9\n",
    "n2=6\n",
    "\n",
    "authors_papers_1 = list_of_papers[n1].get(\"metadata\").get(\"authors\")\n",
    "authors_papers_2 = list_of_papers[n2].get(\"metadata\").get(\"authors\")\n",
    "\n",
    "all_authors = authors_papers_1 + authors_papers_2\n",
    "\n",
    "authors_refs = []\n",
    "for author in all_authors:\n",
    "    authors_refs.append(author.get(\"record\").get(\"$ref\"))\n",
    "\n",
    "print(authors_refs)\n",
    "\n",
    "\n"
   ]
  },
  {
   "cell_type": "markdown",
   "id": "f074737c",
   "metadata": {},
   "source": [
    "### d) "
   ]
  },
  {
   "cell_type": "code",
   "execution_count": 91,
   "id": "ce128da1",
   "metadata": {},
   "outputs": [
    {
     "data": {
      "text/html": [
       "<div>\n",
       "<style scoped>\n",
       "    .dataframe tbody tr th:only-of-type {\n",
       "        vertical-align: middle;\n",
       "    }\n",
       "\n",
       "    .dataframe tbody tr th {\n",
       "        vertical-align: top;\n",
       "    }\n",
       "\n",
       "    .dataframe thead th {\n",
       "        text-align: right;\n",
       "    }\n",
       "</style>\n",
       "<table border=\"1\" class=\"dataframe\">\n",
       "  <thead>\n",
       "    <tr style=\"text-align: right;\">\n",
       "      <th></th>\n",
       "      <th>name</th>\n",
       "      <th>email</th>\n",
       "    </tr>\n",
       "  </thead>\n",
       "  <tbody>\n",
       "    <tr>\n",
       "      <th>0</th>\n",
       "      <td>Vargas-Calderón, Vladimir</td>\n",
       "      <td>None</td>\n",
       "    </tr>\n",
       "    <tr>\n",
       "      <th>1</th>\n",
       "      <td>González, Fabio A.</td>\n",
       "      <td>None</td>\n",
       "    </tr>\n",
       "    <tr>\n",
       "      <th>2</th>\n",
       "      <td>Vinck-Posada, Herbert</td>\n",
       "      <td>None</td>\n",
       "    </tr>\n",
       "    <tr>\n",
       "      <th>3</th>\n",
       "      <td>Vivas, David R.</td>\n",
       "      <td>None</td>\n",
       "    </tr>\n",
       "    <tr>\n",
       "      <th>4</th>\n",
       "      <td>Madroñero, Javier</td>\n",
       "      <td>None</td>\n",
       "    </tr>\n",
       "    <tr>\n",
       "      <th>5</th>\n",
       "      <td>Bucheli, Victor</td>\n",
       "      <td>None</td>\n",
       "    </tr>\n",
       "    <tr>\n",
       "      <th>6</th>\n",
       "      <td>Gómez, Luis O.</td>\n",
       "      <td>None</td>\n",
       "    </tr>\n",
       "    <tr>\n",
       "      <th>7</th>\n",
       "      <td>Reina, John H.</td>\n",
       "      <td>None</td>\n",
       "    </tr>\n",
       "  </tbody>\n",
       "</table>\n",
       "</div>"
      ],
      "text/plain": [
       "                        name email\n",
       "0  Vargas-Calderón, Vladimir  None\n",
       "1         González, Fabio A.  None\n",
       "2      Vinck-Posada, Herbert  None\n",
       "3            Vivas, David R.  None\n",
       "4          Madroñero, Javier  None\n",
       "5            Bucheli, Victor  None\n",
       "6             Gómez, Luis O.  None\n",
       "7             Reina, John H.  None"
      ]
     },
     "execution_count": 91,
     "metadata": {},
     "output_type": "execute_result"
    }
   ],
   "source": [
    "import pandas as pd\n",
    "\n",
    "#Profe, hay un problema con el API, para estos autores solo trae info de su nombre, no trae info de nada mas!!\n",
    "#puede verificiarlo buscando uno de los autores manualmente\n",
    "#Construire la tabla aunque no tenga los otros valores\n",
    "authors_table = []\n",
    "for ref in authors_refs:\n",
    "    response = requests.get(ref)\n",
    "    author = response.json()\n",
    "    \n",
    "    name = author.get(\"metadata\").get(\"name\").get(\"value\")\n",
    "    email = author.get(\"metadata\").get(\"email_adresses\")\n",
    "    # Aqui irian los otros valores... si se encontran en el API\n",
    "    \n",
    "    author_to_append = {\"name\":name,\"email\":email}\n",
    "    authors_table.append(author_to_append)\n",
    "\n",
    "pd.DataFrame(authors_table)\n",
    "    "
   ]
  },
  {
   "cell_type": "markdown",
   "id": "f5eaf774",
   "metadata": {},
   "source": [
    "## 2)\n",
    "\n",
    "### a)"
   ]
  },
  {
   "cell_type": "code",
   "execution_count": 105,
   "id": "78ec00dc",
   "metadata": {},
   "outputs": [
    {
     "name": "stdout",
     "output_type": "stream",
     "text": [
      "roots = [7.442583810481713, 7.740200182996348, 7.34463121282632]\n",
      "\n",
      "         3         2\n",
      "-423.1 x + 169.1 x - 22.53 x + 1\n"
     ]
    }
   ],
   "source": [
    "#10072234... 78 <--- ultimos dos numeros de mi cedula\n",
    "\n",
    "import random\n",
    "import numpy as np\n",
    "\n",
    "#We find three random roots between 7 and 8\n",
    "roots = []\n",
    "for i in range(0,3):\n",
    "    roots.append(random.uniform(7,8))\n",
    "print(\"roots =\",roots)\n",
    "\n",
    "#now, we generate the polynomial\n",
    "coefs = np.polynomial.polynomial.polyfromroots(roots)\n",
    "\n",
    "p = np.poly1d(coefs)\n",
    "print(\"\\n\",p)"
   ]
  },
  {
   "cell_type": "markdown",
   "id": "bd8a8473",
   "metadata": {},
   "source": [
    "### b)"
   ]
  },
  {
   "cell_type": "code",
   "execution_count": 115,
   "id": "50dc735f",
   "metadata": {},
   "outputs": [
    {
     "name": "stdout",
     "output_type": "stream",
     "text": [
      "Derivada:\n",
      "        2\n",
      "-1269 x + 338.2 x - 22.53 \n",
      "\n",
      "Puntos criticos:\n",
      "\n",
      " [0.13532307 0.13115123]\n"
     ]
    }
   ],
   "source": [
    "dp = np.polyder(p)\n",
    "print(\"Derivada:\\n\",dp,\"\\n\")\n",
    "print(\"Puntos criticos:\\n\\n\",np.roots(dp))"
   ]
  },
  {
   "cell_type": "markdown",
   "id": "07d4199e",
   "metadata": {},
   "source": [
    "### d)"
   ]
  },
  {
   "cell_type": "code",
   "execution_count": 123,
   "id": "cccdefa9",
   "metadata": {},
   "outputs": [
    {
     "name": "stdout",
     "output_type": "stream",
     "text": [
      "-165227.18137172292\n",
      "-186242.9065092425\n",
      "-158673.16931967446\n"
     ]
    },
    {
     "data": {
      "image/png": "[encoded data removed]",
      "text/plain": [
       "<Figure size 432x288 with 1 Axes>"
      ]
     },
     "metadata": {
      "needs_background": "light"
     },
     "output_type": "display_data"
    }
   ],
   "source": [
    "import matplotlib.pyplot as plt\n",
    "\n",
    "xAxis = np.linspace(7,10)\n",
    "\n",
    "for root in roots:\n",
    "    print(np.polyval(p,root))\n",
    "    plt.plot(root,np.polyval(p,root),\"ro\")\n",
    "\n",
    "y = p(xAxis)\n",
    "plt.plot(xAxis, y)\n",
    "plt.show()"
   ]
  },
  {
   "cell_type": "code",
   "execution_count": null,
   "id": "a47871ee",
   "metadata": {},
   "outputs": [],
   "source": []
  }
 ],
 "metadata": {
  "kernelspec": {
   "display_name": "Python 3 (ipykernel)",
   "language": "python",
   "name": "python3"
  },
  "language_info": {
   "codemirror_mode": {
    "name": "ipython",
    "version": 3
   },
   "file_extension": ".py",
   "mimetype": "text/x-python",
   "name": "python",
   "nbconvert_exporter": "python",
   "pygments_lexer": "ipython3",
   "version": "3.9.12"
  }
 },
 "nbformat": 4,
 "nbformat_minor": 5
}
